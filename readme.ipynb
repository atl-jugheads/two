{
 "cells": [
  {
   "cell_type": "markdown",
   "metadata": {
    "slideshow": {
     "slide_type": "slide"
    }
   },
   "source": [
    "![](https://avatars2.githubusercontent.com/u/33355442?s=400&v=4)"
   ]
  },
  {
   "cell_type": "code",
   "execution_count": 1,
   "metadata": {},
   "outputs": [
    {
     "data": {
      "text/html": [
       "<iframe src=\"https://www.google.com/maps/embed?pb=!1m18!1m12!1m3!1d3316.015206499877!2d-84.39725578479195!3d33.78610548067919!2m3!1f0!2f0!3f0!3m2!1i1024!2i768!4f13.1!3m3!1m2!1s0x88f5045f48e36997%3A0x2bcb18d7444a9f39!2s250+14th+St+NW%2C+Atlanta%2C+GA+30318!5e0!3m2!1sen!2sus!4v1513224672287\" width=\"600\" height=\"300\" frameborder=\"0\" style=\"border:0\" allowfullscreen></iframe>"
      ],
      "text/plain": [
       "<IPython.core.display.HTML object>"
      ]
     },
     "metadata": {},
     "output_type": "display_data"
    }
   ],
   "source": [
    "    %%html\n",
    "    <iframe src=\"https://www.google.com/maps/embed?pb=!1m18!1m12!1m3!1d3316.015206499877!2d-84.39725578479195!3d33.78610548067919!2m3!1f0!2f0!3f0!3m2!1i1024!2i768!4f13.1!3m3!1m2!1s0x88f5045f48e36997%3A0x2bcb18d7444a9f39!2s250+14th+St+NW%2C+Atlanta%2C+GA+30318!5e0!3m2!1sen!2sus!4v1513224672287\" width=\"600\" height=\"300\" frameborder=\"0\" style=\"border:0\" allowfullscreen></iframe>"
   ]
  },
  {
   "cell_type": "code",
   "execution_count": 2,
   "metadata": {
    "slideshow": {
     "slide_type": "-"
    }
   },
   "outputs": [
    {
     "data": {
      "text/html": [
       "<style>\n",
       "body.rise-hack-active div.reveal .code_cell .input,\n",
       "body.rise-hack-active div.reveal .output_stderr {\n",
       "    display: none;\n",
       "}\n",
       "button.rise-hack:hover {\n",
       "    opacity: 0.7;\n",
       "}\n",
       "button.rise-hack {\n",
       "    font-weight: bold;\n",
       "}\n",
       "body.rise-hack-active button.rise-hack {\n",
       "    text-decoration: line-through;\n",
       "}\n",
       "body.rise-hack-active .reveal .rendered_html table {\n",
       "    font-size: 16px;\n",
       "}\n",
       "body.rise-hack-active .reveal .prompt {\n",
       "    display: none;\n",
       "}\n",
       "</style>"
      ],
      "text/plain": [
       "<IPython.core.display.HTML object>"
      ]
     },
     "metadata": {},
     "output_type": "display_data"
    },
    {
     "data": {
      "application/javascript": [
       ";(function(){\n",
       "    function init() {   \n",
       "        $(\"button.rise-hack\").remove();\n",
       "        $(\"body\").addClass(\"rise-hack-active\");\n",
       "        var btn = $(\"<button/>\", {\"class\": \"rise-hack\"}).text(\"</>\");\n",
       "        btn.bind(\"click\", function(){\n",
       "            $(\"body\").toggleClass(\"rise-hack-active\");\n",
       "            Reveal.layout();\n",
       "        });\n",
       "        $(\".controls\").append(btn);\n",
       "    }\n",
       "\n",
       "    function subscribe(){\n",
       "        if(!window.Reveal){\n",
       "            return setTimeout(subscribe, 1000);\n",
       "        }\n",
       "        Reveal.addEventListener('ready', init);\n",
       "        init();\n",
       "    }\n",
       "    subscribe();   \n",
       "}).call(this);"
      ],
      "text/plain": [
       "<IPython.core.display.Javascript object>"
      ]
     },
     "metadata": {},
     "output_type": "display_data"
    }
   ],
   "source": [
    "    %reload_ext literacy\n",
    "    from composites import *\n",
    "    import style"
   ]
  },
  {
   "cell_type": "code",
   "execution_count": 3,
   "metadata": {
    "collapsed": true,
    "slideshow": {
     "slide_type": "-"
    }
   },
   "outputs": [],
   "source": [
    "    \n",
    "    ---\n",
    "    ref:\n",
    "        gitter: https://gitter.im/atl-jugheads/Lobby\n",
    "        coc: \n",
    "        cocform: \n",
    "        notifications: https://gitter.zendesk.com/hc/en-us/articles/210265505-Notifications\n",
    "        logo: https://avatars2.githubusercontent.com/u/33355442?s=400&v=4\n",
    "        moz: https://wiki.mozilla.org/MOSS/Foundational_Technology/Projects_We_Use\n",
    "        jimmy: https://github.com/jrs2\n",
    "        np: https://github.com/numpy/numpy/blob/master/doc/neps/dropping-python2.7-proposal.rst\n",
    "        jonathan: \n",
    "            \n",
    "    coc_local: CODE_OF_CONDUCT.md\n",
    "    panel:\n",
    "        - tonyfast\n",
    "        - slstarnes"
   ]
  },
  {
   "cell_type": "code",
   "execution_count": 4,
   "metadata": {
    "slideshow": {
     "slide_type": "-"
    }
   },
   "outputs": [
    {
     "data": {
      "text/markdown": [
       "    %%javascript\n",
       "    Reveal.configure({\n",
       "        autoSlide: 10000,\n",
       "        loop: true,\n",
       "    });"
      ],
      "text/plain": [
       "<IPython.core.display.Markdown object>"
      ]
     },
     "metadata": {},
     "output_type": "display_data"
    },
    {
     "data": {
      "application/javascript": [
       "Reveal.configure({\n",
       "    autoSlide: 10000,\n",
       "    loop: true,\n",
       "});"
      ],
      "text/plain": [
       "<IPython.core.display.Javascript object>"
      ]
     },
     "metadata": {},
     "output_type": "display_data"
    }
   ],
   "source": [
    "    %%javascript\n",
    "    Reveal.configure({\n",
    "        autoSlide: 10000,\n",
    "        loop: true,\n",
    "    });"
   ]
  },
  {
   "cell_type": "code",
   "execution_count": 5,
   "metadata": {
    "slideshow": {
     "slide_type": "slide"
    }
   },
   "outputs": [
    {
     "data": {
      "text/markdown": [
       "![](https://avatars2.githubusercontent.com/u/33355442?s=400&v=4)\n",
       "\n",
       "# Jupyter User Group Meeting TWO\n",
       "\n",
       "* Welcome\n",
       "* Code of Conduct\n",
       "* Gitter\n",
       "* News\n",
       "* Panel\n",
       "* Talks\n",
       "* Trapper Keeper"
      ],
      "text/plain": [
       "<IPython.core.display.Markdown object>"
      ]
     },
     "metadata": {},
     "output_type": "display_data"
    }
   ],
   "source": [
    "![]({{ref['logo']}})\n",
    "\n",
    "# Jupyter User Group Meeting TWO\n",
    "\n",
    "* Welcome\n",
    "* Code of Conduct\n",
    "* Gitter\n",
    "* News\n",
    "* Panel\n",
    "* Talks\n",
    "* Trapper Keeper\n"
   ]
  },
  {
   "cell_type": "code",
   "execution_count": 6,
   "metadata": {
    "slideshow": {
     "slide_type": "slide"
    }
   },
   "outputs": [
    {
     "data": {
      "text/markdown": [
       "# `C\\`ode `o\\`f `C\\`onduct\n",
       "\n",
       "    = cache(the.Path(coc_local).Path.read_text()) * the.str.split('## ') / ('## ' + x) * list "
      ],
      "text/plain": [
       "<IPython.core.display.Markdown object>"
      ]
     },
     "metadata": {},
     "output_type": "display_data"
    }
   ],
   "source": [
    "# `C\\`ode `o\\`f `C\\`onduct\n",
    "\n",
    "    = cache(the.Path(coc_local).Path.read_text()) * the.str.split('## ') / ('## ' + x) * list "
   ]
  },
  {
   "cell_type": "code",
   "execution_count": 7,
   "metadata": {},
   "outputs": [
    {
     "data": {
      "text/markdown": [
       "## 3. Expected Behavior\n",
       "\n",
       "The following behaviors are expected and requested of all community members:\n",
       "\n",
       "*   Participate in an authentic and active way. In doing so, you contribute to the health and longevity of this community.\n",
       "*   Exercise consideration and respect in your speech and actions.\n",
       "*   Attempt collaboration before conflict.\n",
       "*   Refrain from demeaning, discriminatory, or harassing behavior and speech.\n",
       "*   Be mindful of your surroundings and of your fellow participants. Alert community leaders if you notice a dangerous situation, someone in distress, or violations of this Code of Conduct, even if they seem inconsequential.\n",
       "*   Remember that community event venues may be shared with members of the public; please be respectful to all patrons of these locations.\n",
       "\n"
      ],
      "text/plain": [
       "<IPython.core.display.Markdown object>"
      ]
     },
     "metadata": {},
     "output_type": "display_data"
    }
   ],
   "source": [
    "{{the[CoC][x[3]]()}}"
   ]
  },
  {
   "cell_type": "code",
   "execution_count": 8,
   "metadata": {
    "slideshow": {
     "slide_type": "subslide"
    }
   },
   "outputs": [
    {
     "data": {
      "text/markdown": [
       "## 4. Unacceptable Behavior\n",
       "\n",
       "The following behaviors are considered harassment and are unacceptable within our community:\n",
       "\n",
       "*   Violence, threats of violence or violent language directed against another person.\n",
       "*   Sexist, racist, homophobic, transphobic, ableist or otherwise discriminatory jokes and language.\n",
       "*   Posting or displaying sexually explicit or violent material.\n",
       "*   Posting or threatening to post other people’s personally identifying information (\"doxing\").\n",
       "*   Personal insults, particularly those related to gender, sexual orientation, race, religion, or disability.\n",
       "*   Inappropriate photography or recording.\n",
       "*   Inappropriate physical contact. You should have someone’s consent before touching them.\n",
       "*   Unwelcome sexual attention. This includes, sexualized comments or jokes; inappropriate touching, groping, and unwelcomed sexual advances.\n",
       "*   Deliberate intimidation, stalking or following (online or in person).\n",
       "*   Advocating for, or encouraging, any of the above behavior.\n",
       "*   Sustained disruption of community events, including talks and presentations.\n",
       "\n"
      ],
      "text/plain": [
       "<IPython.core.display.Markdown object>"
      ]
     },
     "metadata": {},
     "output_type": "display_data"
    }
   ],
   "source": [
    "{{the[CoC][x[4]]()}}"
   ]
  },
  {
   "cell_type": "markdown",
   "metadata": {
    "slideshow": {
     "slide_type": "slide"
    }
   },
   "source": [
    "# Talks \n",
    "\n",
    "1. Analysis of Cryptocurrency and Traditional Financial Markets\n",
    "2. Reusability and Reproduciblity\n",
    "3. Strava Data Analytics"
   ]
  },
  {
   "cell_type": "code",
   "execution_count": 12,
   "metadata": {
    "slideshow": {
     "slide_type": "subslide"
    }
   },
   "outputs": [
    {
     "data": {
      "text/markdown": [
       "# Analysis of Cryptocurrency and Traditional Financial Markets\n",
       "\n",
       "[_Jonathan Lamberts_](None)\n",
       "\n",
       "I'm currently exploring the relevance of traditional financial indicators when predicting the performance of several cryptocurrencies.  I'm also comparing, in general, the performance of traditional securities with that of crypto.  I'm almost exclusively using Jupyter notebooks for this analysis.  The talk would be more focused on the application of the notebook as an exploratory tool than on specific features of the notebook itself."
      ],
      "text/plain": [
       "<IPython.core.display.Markdown object>"
      ]
     },
     "metadata": {},
     "output_type": "display_data"
    }
   ],
   "source": [
    "# Analysis of Cryptocurrency and Traditional Financial Markets\n",
    "\n",
    "[_Jonathan Lamberts_]({{ref['jonathan']}})\n",
    "\n",
    "I'm currently exploring the relevance of traditional financial indicators when predicting the performance of several cryptocurrencies.  I'm also comparing, in general, the performance of traditional securities with that of crypto.  I'm almost exclusively using Jupyter notebooks for this analysis.  The talk would be more focused on the application of the notebook as an exploratory tool than on specific features of the notebook itself.\n"
   ]
  },
  {
   "cell_type": "code",
   "execution_count": 13,
   "metadata": {
    "slideshow": {
     "slide_type": "subslide"
    }
   },
   "outputs": [
    {
     "data": {
      "text/markdown": [
       "# Reusability and Reproduciblity\n",
       "\n",
       "[_Tony Fast_]()\n",
       "\n",
       "Get more out of your notebooks by creating _Run All-able_ notebooks and deriving reusable documents with \n",
       "__nbconvert__.  This presentation will be a classroom style discussion will explore the various lifecycles of \n",
       "a notebook from it's highly interactive initial state to the document at rest years later."
      ],
      "text/plain": [
       "<IPython.core.display.Markdown object>"
      ]
     },
     "metadata": {},
     "output_type": "display_data"
    }
   ],
   "source": [
    "# Reusability and Reproduciblity\n",
    "\n",
    "[_Tony Fast_]({{ref['tony']}})\n",
    "\n",
    "Get more out of your notebooks by creating _Run All-able_ notebooks and deriving reusable documents with \n",
    "__nbconvert__.  This presentation will be a classroom style discussion will explore the various lifecycles of \n",
    "a notebook from it's highly interactive initial state to the document at rest years later."
   ]
  },
  {
   "cell_type": "code",
   "execution_count": 14,
   "metadata": {
    "slideshow": {
     "slide_type": "slide"
    }
   },
   "outputs": [
    {
     "data": {
      "text/markdown": [
       "# Strava Data Analytics\n",
       "\n",
       "[_Jimmy Simmons_](https://github.com/jrs2)\n",
       "\n",
       "Training for triathlons requires discipline in three areas. It is a lot like Role Playing Games except the character is you. Sometimes it's hard to know other than \"feel\" how the character is doing. Strava is a social network for athletes and stores large amounts of user data. If the user trains with a GPS watch and other sensors all that data is cached. This data is explored using the Python API and Jupyter to look for relationships, improvement, and trends within the data. Bokeh, Holoviews, and Geoviews are all used to this end."
      ],
      "text/plain": [
       "<IPython.core.display.Markdown object>"
      ]
     },
     "metadata": {},
     "output_type": "display_data"
    }
   ],
   "source": [
    "# Strava Data Analytics\n",
    "\n",
    "[_Jimmy Simmons_]({{ref['jimmy']}})\n",
    "\n",
    "Training for triathlons requires discipline in three areas. It is a lot like Role Playing Games except the character is you. Sometimes it's hard to know other than \"feel\" how the character is doing. Strava is a social network for athletes and stores large amounts of user data. If the user trains with a GPS watch and other sensors all that data is cached. This data is explored using the Python API and Jupyter to look for relationships, improvement, and trends within the data. Bokeh, Holoviews, and Geoviews are all used to this end."
   ]
  },
  {
   "cell_type": "code",
   "execution_count": 15,
   "metadata": {
    "slideshow": {
     "slide_type": "slide"
    }
   },
   "outputs": [
    {
     "data": {
      "text/markdown": [
       "# Communicating on [Gitter](https://gitter.im/atl-jugheads/Lobby)\n",
       "\n",
       "> Gitter will be used during the event to ask questions and share links.  We will ask the presenters \n",
       "to [turn on notifications](https://gitter.zendesk.com/hc/en-us/articles/210265505-Notifications) during their presentations for interactive feedback.\n",
       "\n",
       "Gitter will allow us to aggregate our collective discussion into a report."
      ],
      "text/plain": [
       "<IPython.core.display.Markdown object>"
      ]
     },
     "metadata": {},
     "output_type": "display_data"
    }
   ],
   "source": [
    "# Communicating on [Gitter]({{ref.gitter}})\n",
    "\n",
    "> Gitter will be used during the event to ask questions and share links.  We will ask the presenters \n",
    "to [turn on notifications]({{ref['notifications']}}) during their presentations for interactive feedback.\n",
    "\n",
    "Gitter will allow us to aggregate our collective discussion into a report."
   ]
  },
  {
   "cell_type": "code",
   "execution_count": 17,
   "metadata": {},
   "outputs": [
    {
     "data": {
      "text/html": [
       "\n",
       "        <iframe\n",
       "            width=\"600\"\n",
       "            height=\"400\"\n",
       "            src=\"https://gitter.im/atl-jugheads/Lobby\"\n",
       "            frameborder=\"0\"\n",
       "            allowfullscreen\n",
       "        ></iframe>\n",
       "        "
      ],
      "text/plain": [
       "<IPython.lib.display.IFrame at 0x110829ef0>"
      ]
     },
     "metadata": {},
     "output_type": "display_data"
    }
   ],
   "source": [
    "{{ref['gitter']}}"
   ]
  },
  {
   "cell_type": "code",
   "execution_count": 18,
   "metadata": {
    "slideshow": {
     "slide_type": "slide"
    }
   },
   "outputs": [
    {
     "data": {
      "text/markdown": [
       "# Upcoming Events \n",
       "### [Propose a talk](https://docs.google.com/forms/d/1NL0DJlfl5fnCMGT_fDnSi25aMF4yAAD77-Xp_2P1x24/edit) for future dates\n",
       "\n",
       "> ### December 16, 2017 | January 27, 2018  | Something in February | Jupyter day on March 31, 2018"
      ],
      "text/plain": [
       "<IPython.core.display.Markdown object>"
      ]
     },
     "metadata": {},
     "output_type": "display_data"
    }
   ],
   "source": [
    "# Upcoming Events \n",
    "### [Propose a talk](https://docs.google.com/forms/d/1NL0DJlfl5fnCMGT_fDnSi25aMF4yAAD77-Xp_2P1x24/edit) for future dates\n",
    "\n",
    "> ### December 16, 2017 | January 27, 2018  | Something in February | Jupyter day on March 31, 2018"
   ]
  },
  {
   "cell_type": "code",
   "execution_count": 19,
   "metadata": {
    "slideshow": {
     "slide_type": "fragment"
    }
   },
   "outputs": [
    {
     "data": {
      "text/markdown": [
       "# News\n",
       "\n",
       "> Recent news in open source."
      ],
      "text/plain": [
       "<IPython.core.display.Markdown object>"
      ]
     },
     "metadata": {},
     "output_type": "display_data"
    }
   ],
   "source": [
    "# News\n",
    "\n",
    "> Recent news in open source."
   ]
  },
  {
   "cell_type": "markdown",
   "metadata": {
    "slideshow": {
     "slide_type": "subslide"
    }
   },
   "source": [
    "<blockquote class=\"twitter-tweet\" data-lang=\"en\"><p lang=\"en\" dir=\"ltr\">Binder 2.0, a Tech Guide, from  <a href=\"https://twitter.com/mybinderteam?ref_src=twsrc%5Etfw\">@mybinderteam</a> <a href=\"https://t.co/b1U8PnREBH\">https://t.co/b1U8PnREBH</a></p>&mdash; Project Jupyter (@ProjectJupyter) <a href=\"https://twitter.com/ProjectJupyter/status/936265849366892545?ref_src=twsrc%5Etfw\">November 30, 2017</a></blockquote>\n",
    "<script async src=\"https://platform.twitter.com/widgets.js\" charset=\"utf-8\"></script>\n"
   ]
  },
  {
   "cell_type": "code",
   "execution_count": 20,
   "metadata": {
    "slideshow": {
     "slide_type": "subslide"
    }
   },
   "outputs": [
    {
     "data": {
      "text/html": [
       "\n",
       "        <iframe\n",
       "            width=\"600\"\n",
       "            height=\"400\"\n",
       "            src=\"http://www.i-programmer.info/news/216-python/11362-pypi-granted-170000.html\"\n",
       "            frameborder=\"0\"\n",
       "            allowfullscreen\n",
       "        ></iframe>\n",
       "        "
      ],
      "text/plain": [
       "<IPython.lib.display.IFrame at 0x110829d30>"
      ]
     },
     "metadata": {},
     "output_type": "display_data"
    }
   ],
   "source": [
    "http://www.i-programmer.info/news/216-python/11362-pypi-granted-170000.html"
   ]
  },
  {
   "cell_type": "code",
   "execution_count": 21,
   "metadata": {
    "slideshow": {
     "slide_type": "subslide"
    }
   },
   "outputs": [
    {
     "data": {
      "text/markdown": [
       "# [Foundational Mozilla Technologies.](https://wiki.mozilla.org/MOSS/Foundational_Technology/Projects_We_Use)\n",
       "\n",
       "    moz = __import__('pandas').read_html(ref['moz'])[0].pipe(\n",
       "        lambda df: df.rename(columns=dict(enumerate(df.iloc[0]))).iloc[1:].set_index('Project'))\n",
       "    moz"
      ],
      "text/plain": [
       "<IPython.core.display.Markdown object>"
      ]
     },
     "metadata": {},
     "output_type": "display_data"
    },
    {
     "data": {
      "text/html": [
       "<div>\n",
       "<style>\n",
       "    .dataframe thead tr:only-child th {\n",
       "        text-align: right;\n",
       "    }\n",
       "\n",
       "    .dataframe thead th {\n",
       "        text-align: left;\n",
       "    }\n",
       "\n",
       "    .dataframe tbody tr th {\n",
       "        vertical-align: top;\n",
       "    }\n",
       "</style>\n",
       "<table border=\"1\" class=\"dataframe\">\n",
       "  <thead>\n",
       "    <tr style=\"text-align: right;\">\n",
       "      <th></th>\n",
       "      <th>Description and Use</th>\n",
       "      <th>Contact within Mozilla</th>\n",
       "    </tr>\n",
       "    <tr>\n",
       "      <th>Project</th>\n",
       "      <th></th>\n",
       "      <th></th>\n",
       "    </tr>\n",
       "  </thead>\n",
       "  <tbody>\n",
       "    <tr>\n",
       "      <th>Adjust</th>\n",
       "      <td>Mobile app analytics; used to track installs o...</td>\n",
       "      <td>Android &amp; iOS teams</td>\n",
       "    </tr>\n",
       "    <tr>\n",
       "      <th>Airflow</th>\n",
       "      <td>Airflow is a platform to programmatically auth...</td>\n",
       "      <td>Roberto Agostino Vitillo</td>\n",
       "    </tr>\n",
       "    <tr>\n",
       "      <th>American Fuzzy Lop</th>\n",
       "      <td>A security-oriented fuzzer.</td>\n",
       "      <td>Unknown</td>\n",
       "    </tr>\n",
       "    <tr>\n",
       "      <th>ANGLE</th>\n",
       "      <td>A conformant OpenGL ES implementation for Wind...</td>\n",
       "      <td>Platform Graphics Team</td>\n",
       "    </tr>\n",
       "    <tr>\n",
       "      <th>angular.js</th>\n",
       "      <td>Used by A-Team for web apps (eg Treeherder)</td>\n",
       "      <td>Member of Jonathan Griffin's team</td>\n",
       "    </tr>\n",
       "    <tr>\n",
       "      <th>Apache Server</th>\n",
       "      <td>Used by A-Team for web apps</td>\n",
       "      <td>Member of Jonathan Griffin's team</td>\n",
       "    </tr>\n",
       "    <tr>\n",
       "      <th>Ansible</th>\n",
       "      <td>Used by IT (netops) and A-Team to manage deplo...</td>\n",
       "      <td>jbarnell , Webops, GPS?</td>\n",
       "    </tr>\n",
       "    <tr>\n",
       "      <th>AreWeFastYet</th>\n",
       "      <td>Compare JS performance across JS engines and p...</td>\n",
       "      <td>Hannes Verschore</td>\n",
       "    </tr>\n",
       "    <tr>\n",
       "      <th>Argon</th>\n",
       "      <td>Used as the foundation for mobile AR web brows...</td>\n",
       "      <td>Blair MacIntyre</td>\n",
       "    </tr>\n",
       "    <tr>\n",
       "      <th>Atom</th>\n",
       "      <td>Used (either vanilla or e.g. as [1] ) by vario...</td>\n",
       "      <td>NaN</td>\n",
       "    </tr>\n",
       "    <tr>\n",
       "      <th>BabelJS</th>\n",
       "      <td>JavaScript compiler, Used by Gaia, TaskCluster...</td>\n",
       "      <td>Selena Deckelmann</td>\n",
       "    </tr>\n",
       "    <tr>\n",
       "      <th>BIND</th>\n",
       "      <td>DNS Server</td>\n",
       "      <td>Brian Hourigan</td>\n",
       "    </tr>\n",
       "    <tr>\n",
       "      <th>Bleach</th>\n",
       "      <td>HTML sanitizing library that escapes or strips...</td>\n",
       "      <td>Will Kahn-Greene</td>\n",
       "    </tr>\n",
       "    <tr>\n",
       "      <th>Blessings</th>\n",
       "      <td>Terminal formatting lib used by mozilla-centra...</td>\n",
       "      <td>Erik Rose</td>\n",
       "    </tr>\n",
       "    <tr>\n",
       "      <th>Blink Web Audio</th>\n",
       "      <td>Web audio implementation from Blink</td>\n",
       "      <td>NaN</td>\n",
       "    </tr>\n",
       "    <tr>\n",
       "      <th>Bootstrap</th>\n",
       "      <td>HTML/CSS/JS framework, used by many of Mozilla...</td>\n",
       "      <td>Webdev</td>\n",
       "    </tr>\n",
       "    <tr>\n",
       "      <th>bro</th>\n",
       "      <td>The Bro Network Security Monitor</td>\n",
       "      <td>Michal Purzynski</td>\n",
       "    </tr>\n",
       "    <tr>\n",
       "      <th>brotli</th>\n",
       "      <td>Compression library</td>\n",
       "      <td>NaN</td>\n",
       "    </tr>\n",
       "    <tr>\n",
       "      <th>Browserify</th>\n",
       "      <td>Build JS dependencies for the browser</td>\n",
       "      <td>mozilla-services (kinto.js)</td>\n",
       "    </tr>\n",
       "    <tr>\n",
       "      <th>BuildBot</th>\n",
       "      <td>The base system currently in use for release</td>\n",
       "      <td>Dustin J. Mitchell</td>\n",
       "    </tr>\n",
       "    <tr>\n",
       "      <th>Bugzilla (upstream)</th>\n",
       "      <td>The base Bugzilla on that we customize for Moz...</td>\n",
       "      <td>Mark Côté</td>\n",
       "    </tr>\n",
       "    <tr>\n",
       "      <th>Cairo</th>\n",
       "      <td>Vector graphics-based, device independent API;...</td>\n",
       "      <td>Jeff Muizelaar</td>\n",
       "    </tr>\n",
       "    <tr>\n",
       "      <th>ccache</th>\n",
       "      <td>A compiler cache; used by Servo and Gecko builds</td>\n",
       "      <td>Ted Mielczarek</td>\n",
       "    </tr>\n",
       "    <tr>\n",
       "      <th>Celery</th>\n",
       "      <td>Distributed task queue. Used by Treeherder and...</td>\n",
       "      <td>Member of Jonathan Griffin's team</td>\n",
       "    </tr>\n",
       "    <tr>\n",
       "      <th>certlint</th>\n",
       "      <td>Certificate checking tool, used by the Root St...</td>\n",
       "      <td>Kathleen Wilson</td>\n",
       "    </tr>\n",
       "    <tr>\n",
       "      <th>cffi</th>\n",
       "      <td>C Foreign Function Interface for Python.</td>\n",
       "      <td>Cloud Services Team</td>\n",
       "    </tr>\n",
       "    <tr>\n",
       "      <th>CKEditor</th>\n",
       "      <td>WYSIWYG editor on MDN</td>\n",
       "      <td>NaN</td>\n",
       "    </tr>\n",
       "    <tr>\n",
       "      <th>CLDR</th>\n",
       "      <td>Common Locale Data Repository - Unicode data</td>\n",
       "      <td>NaN</td>\n",
       "    </tr>\n",
       "    <tr>\n",
       "      <th>CMake</th>\n",
       "      <td>cross-platform family of tools designed to bui...</td>\n",
       "      <td>Mike Trinkala</td>\n",
       "    </tr>\n",
       "    <tr>\n",
       "      <th>Chai</th>\n",
       "      <td>JavaScript test and assertion library</td>\n",
       "      <td>Cloud Services, Tarek Ziade's team (kinto.js),...</td>\n",
       "    </tr>\n",
       "    <tr>\n",
       "      <th>...</th>\n",
       "      <td>...</td>\n",
       "      <td>...</td>\n",
       "    </tr>\n",
       "    <tr>\n",
       "      <th>Subversion</th>\n",
       "      <td>https://svn.mozilla.org (Planning to decommiss...</td>\n",
       "      <td>Unknown</td>\n",
       "    </tr>\n",
       "    <tr>\n",
       "      <th>suricata</th>\n",
       "      <td>IDS / IPS / NSM engine</td>\n",
       "      <td>Michal Purzynski</td>\n",
       "    </tr>\n",
       "    <tr>\n",
       "      <th>TernJS</th>\n",
       "      <td>Code analysis engine for JS</td>\n",
       "      <td>NaN</td>\n",
       "    </tr>\n",
       "    <tr>\n",
       "      <th>three.js</th>\n",
       "      <td>3D JS library; used by A-Frame</td>\n",
       "      <td>Lars Bergstrom</td>\n",
       "    </tr>\n",
       "    <tr>\n",
       "      <th>Tox</th>\n",
       "      <td>Test automation</td>\n",
       "      <td>Dave Hunt</td>\n",
       "    </tr>\n",
       "    <tr>\n",
       "      <th>Travis</th>\n",
       "      <td>Continuous integration system used by several ...</td>\n",
       "      <td>Jonathan Griffin's team and Lars Bergstrom</td>\n",
       "    </tr>\n",
       "    <tr>\n",
       "      <th>twemoji</th>\n",
       "      <td>Upstream Emoji artwork used in the Firefox bui...</td>\n",
       "      <td>Tim Chien (See emojione-colr)</td>\n",
       "    </tr>\n",
       "    <tr>\n",
       "      <th>The Unicode Consortium</th>\n",
       "      <td>Their work underpins most of what we do</td>\n",
       "      <td>Richard Soderberg</td>\n",
       "    </tr>\n",
       "    <tr>\n",
       "      <th>UWSGI</th>\n",
       "      <td>Full hosting stack used in MozDef</td>\n",
       "      <td>MozDef Team in EIS</td>\n",
       "    </tr>\n",
       "    <tr>\n",
       "      <th>Vagrant</th>\n",
       "      <td>Build and distribute dev envs, used by Treeher...</td>\n",
       "      <td>Member of Jonathan Griffin's team</td>\n",
       "    </tr>\n",
       "    <tr>\n",
       "      <th>Valgrind</th>\n",
       "      <td>Memory error detection and profiling of C and ...</td>\n",
       "      <td>jseward, njn</td>\n",
       "    </tr>\n",
       "    <tr>\n",
       "      <th>VideoLAN</th>\n",
       "      <td>Free software for multimedia</td>\n",
       "      <td>Timothy B. Terriberry</td>\n",
       "    </tr>\n",
       "    <tr>\n",
       "      <th>vscode</th>\n",
       "      <td>Code editor</td>\n",
       "      <td>unknown</td>\n",
       "    </tr>\n",
       "    <tr>\n",
       "      <th>vim</th>\n",
       "      <td>editor used by many developers</td>\n",
       "      <td>—</td>\n",
       "    </tr>\n",
       "    <tr>\n",
       "      <th>waffle.io</th>\n",
       "      <td>github project management used by various teams</td>\n",
       "      <td>NaN</td>\n",
       "    </tr>\n",
       "    <tr>\n",
       "      <th>web-platform-tests</th>\n",
       "      <td>Testcases and tooling for cross-browser testin...</td>\n",
       "      <td>jgraham</td>\n",
       "    </tr>\n",
       "    <tr>\n",
       "      <th>WebPack</th>\n",
       "      <td>A bundler for javascript and friends</td>\n",
       "      <td>Nicolas Perriault</td>\n",
       "    </tr>\n",
       "    <tr>\n",
       "      <th>WebRTC.org</th>\n",
       "      <td>Components to support real-time communication ...</td>\n",
       "      <td>Randell Jesup</td>\n",
       "    </tr>\n",
       "    <tr>\n",
       "      <th>woff2</th>\n",
       "      <td>Reference library for WOFF font format</td>\n",
       "      <td>NaN</td>\n",
       "    </tr>\n",
       "    <tr>\n",
       "      <th>WordPress</th>\n",
       "      <td>Powers our blogs, blog.mozilla.org</td>\n",
       "      <td>Craig Cook</td>\n",
       "    </tr>\n",
       "    <tr>\n",
       "      <th>Wt</th>\n",
       "      <td>C++ library for developing web applications, h...</td>\n",
       "      <td>Mike Trinkala</td>\n",
       "    </tr>\n",
       "    <tr>\n",
       "      <th>x509lint</th>\n",
       "      <td>Certificate checking tool, used by the Root St...</td>\n",
       "      <td>Kathleen Wilson</td>\n",
       "    </tr>\n",
       "    <tr>\n",
       "      <th>Xiph.Org</th>\n",
       "      <td>Media codecs ship in Firefox, encoding tools; ...</td>\n",
       "      <td>Ralph Giles</td>\n",
       "    </tr>\n",
       "    <tr>\n",
       "      <th>xxHash</th>\n",
       "      <td>Extremely fast non-cryptographic hash algorith...</td>\n",
       "      <td>Mike Trinkala</td>\n",
       "    </tr>\n",
       "    <tr>\n",
       "      <th>XZ Embedded</th>\n",
       "      <td>Decompressor for the XZ format</td>\n",
       "      <td>NaN</td>\n",
       "    </tr>\n",
       "    <tr>\n",
       "      <th>yasm</th>\n",
       "      <td>Assembler used by the build system.</td>\n",
       "      <td>unknown</td>\n",
       "    </tr>\n",
       "    <tr>\n",
       "      <th>YouCompleteMe</th>\n",
       "      <td>Code completion engine for vim editors</td>\n",
       "      <td>Ehsan Akhgari</td>\n",
       "    </tr>\n",
       "    <tr>\n",
       "      <th>zlib</th>\n",
       "      <td>Streaming compression and decompression for HT...</td>\n",
       "      <td>NaN</td>\n",
       "    </tr>\n",
       "    <tr>\n",
       "      <th>Zappa Serverless Framework</th>\n",
       "      <td>Framework for porting Flask, Djangon, other py...</td>\n",
       "      <td>Andrew Krug</td>\n",
       "    </tr>\n",
       "    <tr>\n",
       "      <th>ZooKeeper</th>\n",
       "      <td>Distributed synchronization, use by hg.mozilla...</td>\n",
       "      <td>gps</td>\n",
       "    </tr>\n",
       "  </tbody>\n",
       "</table>\n",
       "<p>240 rows × 2 columns</p>\n",
       "</div>"
      ],
      "text/plain": [
       "                                                          Description and Use  \\\n",
       "Project                                                                         \n",
       "Adjust                      Mobile app analytics; used to track installs o...   \n",
       "Airflow                     Airflow is a platform to programmatically auth...   \n",
       "American Fuzzy Lop                                A security-oriented fuzzer.   \n",
       "ANGLE                       A conformant OpenGL ES implementation for Wind...   \n",
       "angular.js                        Used by A-Team for web apps (eg Treeherder)   \n",
       "Apache Server                                     Used by A-Team for web apps   \n",
       "Ansible                     Used by IT (netops) and A-Team to manage deplo...   \n",
       "AreWeFastYet                Compare JS performance across JS engines and p...   \n",
       "Argon                       Used as the foundation for mobile AR web brows...   \n",
       "Atom                        Used (either vanilla or e.g. as [1] ) by vario...   \n",
       "BabelJS                     JavaScript compiler, Used by Gaia, TaskCluster...   \n",
       "BIND                                                               DNS Server   \n",
       "Bleach                      HTML sanitizing library that escapes or strips...   \n",
       "Blessings                   Terminal formatting lib used by mozilla-centra...   \n",
       "Blink Web Audio                           Web audio implementation from Blink   \n",
       "Bootstrap                   HTML/CSS/JS framework, used by many of Mozilla...   \n",
       "bro                                          The Bro Network Security Monitor   \n",
       "brotli                                                    Compression library   \n",
       "Browserify                              Build JS dependencies for the browser   \n",
       "BuildBot                         The base system currently in use for release   \n",
       "Bugzilla (upstream)         The base Bugzilla on that we customize for Moz...   \n",
       "Cairo                       Vector graphics-based, device independent API;...   \n",
       "ccache                       A compiler cache; used by Servo and Gecko builds   \n",
       "Celery                      Distributed task queue. Used by Treeherder and...   \n",
       "certlint                    Certificate checking tool, used by the Root St...   \n",
       "cffi                                 C Foreign Function Interface for Python.   \n",
       "CKEditor                                                WYSIWYG editor on MDN   \n",
       "CLDR                             Common Locale Data Repository - Unicode data   \n",
       "CMake                       cross-platform family of tools designed to bui...   \n",
       "Chai                                    JavaScript test and assertion library   \n",
       "...                                                                       ...   \n",
       "Subversion                  https://svn.mozilla.org (Planning to decommiss...   \n",
       "suricata                                               IDS / IPS / NSM engine   \n",
       "TernJS                                            Code analysis engine for JS   \n",
       "three.js                                       3D JS library; used by A-Frame   \n",
       "Tox                                                           Test automation   \n",
       "Travis                      Continuous integration system used by several ...   \n",
       "twemoji                     Upstream Emoji artwork used in the Firefox bui...   \n",
       "The Unicode Consortium                Their work underpins most of what we do   \n",
       "UWSGI                                       Full hosting stack used in MozDef   \n",
       "Vagrant                     Build and distribute dev envs, used by Treeher...   \n",
       "Valgrind                    Memory error detection and profiling of C and ...   \n",
       "VideoLAN                                         Free software for multimedia   \n",
       "vscode                                                            Code editor   \n",
       "vim                                            editor used by many developers   \n",
       "waffle.io                     github project management used by various teams   \n",
       "web-platform-tests          Testcases and tooling for cross-browser testin...   \n",
       "WebPack                                  A bundler for javascript and friends   \n",
       "WebRTC.org                  Components to support real-time communication ...   \n",
       "woff2                                  Reference library for WOFF font format   \n",
       "WordPress                                  Powers our blogs, blog.mozilla.org   \n",
       "Wt                          C++ library for developing web applications, h...   \n",
       "x509lint                    Certificate checking tool, used by the Root St...   \n",
       "Xiph.Org                    Media codecs ship in Firefox, encoding tools; ...   \n",
       "xxHash                      Extremely fast non-cryptographic hash algorith...   \n",
       "XZ Embedded                                    Decompressor for the XZ format   \n",
       "yasm                                      Assembler used by the build system.   \n",
       "YouCompleteMe                          Code completion engine for vim editors   \n",
       "zlib                        Streaming compression and decompression for HT...   \n",
       "Zappa Serverless Framework  Framework for porting Flask, Djangon, other py...   \n",
       "ZooKeeper                   Distributed synchronization, use by hg.mozilla...   \n",
       "\n",
       "                                                       Contact within Mozilla  \n",
       "Project                                                                        \n",
       "Adjust                                                    Android & iOS teams  \n",
       "Airflow                                              Roberto Agostino Vitillo  \n",
       "American Fuzzy Lop                                                    Unknown  \n",
       "ANGLE                                                  Platform Graphics Team  \n",
       "angular.js                                  Member of Jonathan Griffin's team  \n",
       "Apache Server                               Member of Jonathan Griffin's team  \n",
       "Ansible                                               jbarnell , Webops, GPS?  \n",
       "AreWeFastYet                                                 Hannes Verschore  \n",
       "Argon                                                         Blair MacIntyre  \n",
       "Atom                                                                      NaN  \n",
       "BabelJS                                                     Selena Deckelmann  \n",
       "BIND                                                           Brian Hourigan  \n",
       "Bleach                                                       Will Kahn-Greene  \n",
       "Blessings                                                           Erik Rose  \n",
       "Blink Web Audio                                                           NaN  \n",
       "Bootstrap                                                              Webdev  \n",
       "bro                                                          Michal Purzynski  \n",
       "brotli                                                                    NaN  \n",
       "Browserify                                        mozilla-services (kinto.js)  \n",
       "BuildBot                                                   Dustin J. Mitchell  \n",
       "Bugzilla (upstream)                                                 Mark Côté  \n",
       "Cairo                                                          Jeff Muizelaar  \n",
       "ccache                                                         Ted Mielczarek  \n",
       "Celery                                      Member of Jonathan Griffin's team  \n",
       "certlint                                                      Kathleen Wilson  \n",
       "cffi                                                      Cloud Services Team  \n",
       "CKEditor                                                                  NaN  \n",
       "CLDR                                                                      NaN  \n",
       "CMake                                                           Mike Trinkala  \n",
       "Chai                        Cloud Services, Tarek Ziade's team (kinto.js),...  \n",
       "...                                                                       ...  \n",
       "Subversion                                                            Unknown  \n",
       "suricata                                                     Michal Purzynski  \n",
       "TernJS                                                                    NaN  \n",
       "three.js                                                       Lars Bergstrom  \n",
       "Tox                                                                 Dave Hunt  \n",
       "Travis                             Jonathan Griffin's team and Lars Bergstrom  \n",
       "twemoji                                         Tim Chien (See emojione-colr)  \n",
       "The Unicode Consortium                                      Richard Soderberg  \n",
       "UWSGI                                                      MozDef Team in EIS  \n",
       "Vagrant                                     Member of Jonathan Griffin's team  \n",
       "Valgrind                                                         jseward, njn  \n",
       "VideoLAN                                                Timothy B. Terriberry  \n",
       "vscode                                                                unknown  \n",
       "vim                                                                         —  \n",
       "waffle.io                                                                 NaN  \n",
       "web-platform-tests                                                    jgraham  \n",
       "WebPack                                                     Nicolas Perriault  \n",
       "WebRTC.org                                                      Randell Jesup  \n",
       "woff2                                                                     NaN  \n",
       "WordPress                                                          Craig Cook  \n",
       "Wt                                                              Mike Trinkala  \n",
       "x509lint                                                      Kathleen Wilson  \n",
       "Xiph.Org                                                          Ralph Giles  \n",
       "xxHash                                                          Mike Trinkala  \n",
       "XZ Embedded                                                               NaN  \n",
       "yasm                                                                  unknown  \n",
       "YouCompleteMe                                                   Ehsan Akhgari  \n",
       "zlib                                                                      NaN  \n",
       "Zappa Serverless Framework                                        Andrew Krug  \n",
       "ZooKeeper                                                                 gps  \n",
       "\n",
       "[240 rows x 2 columns]"
      ]
     },
     "execution_count": 21,
     "metadata": {},
     "output_type": "execute_result"
    }
   ],
   "source": [
    "# [Foundational Mozilla Technologies.]({{ref.moz}})\n",
    "\n",
    "    moz = __import__('pandas').read_html(ref['moz'])[0].pipe(\n",
    "        lambda df: df.rename(columns=dict(enumerate(df.iloc[0]))).iloc[1:].set_index('Project'))\n",
    "    moz"
   ]
  },
  {
   "cell_type": "code",
   "execution_count": 25,
   "metadata": {
    "slideshow": {
     "slide_type": "subslide"
    }
   },
   "outputs": [
    {
     "data": {
      "text/markdown": [
       "    %%html\n",
       "    <blockquote class=\"twitter-tweet\" data-lang=\"en\"><p lang=\"en\" dir=\"ltr\"><a href=\"https://twitter.com/hashtag/Gensim?src=hash&amp;ref_src=twsrc%5Etfw\">#Gensim</a> 3.2.0 just released, code name Christmas Come Early! New <a href=\"https://twitter.com/hashtag/Poincare?src=hash&amp;ref_src=twsrc%5Etfw\">#Poincare</a> embeddings, crazy speedup of <a href=\"https://twitter.com/hashtag/FastText?src=hash&amp;ref_src=twsrc%5Etfw\">#FastText</a>, pretrained data/models for download, Linux/Windows/MacOS wheels and other improvements. <a href=\"https://t.co/mCYvhGIycP\">https://t.co/mCYvhGIycP</a> <a href=\"https://t.co/VR3amLJl80\">pic.twitter.com/VR3amLJl80</a></p>&mdash; Gensim (@gensim_py) <a href=\"https://twitter.com/gensim_py/status/939722396688371713?ref_src=twsrc%5Etfw\">December 10, 2017</a></blockquote>\n",
       "    <script async src=\"https://platform.twitter.com/widgets.js\" charset=\"utf-8\"></script>"
      ],
      "text/plain": [
       "<IPython.core.display.Markdown object>"
      ]
     },
     "metadata": {},
     "output_type": "display_data"
    },
    {
     "data": {
      "text/html": [
       "<blockquote class=\"twitter-tweet\" data-lang=\"en\"><p lang=\"en\" dir=\"ltr\"><a href=\"https://twitter.com/hashtag/Gensim?src=hash&amp;ref_src=twsrc%5Etfw\">#Gensim</a> 3.2.0 just released, code name Christmas Come Early! New <a href=\"https://twitter.com/hashtag/Poincare?src=hash&amp;ref_src=twsrc%5Etfw\">#Poincare</a> embeddings, crazy speedup of <a href=\"https://twitter.com/hashtag/FastText?src=hash&amp;ref_src=twsrc%5Etfw\">#FastText</a>, pretrained data/models for download, Linux/Windows/MacOS wheels and other improvements. <a href=\"https://t.co/mCYvhGIycP\">https://t.co/mCYvhGIycP</a> <a href=\"https://t.co/VR3amLJl80\">pic.twitter.com/VR3amLJl80</a></p>&mdash; Gensim (@gensim_py) <a href=\"https://twitter.com/gensim_py/status/939722396688371713?ref_src=twsrc%5Etfw\">December 10, 2017</a></blockquote>\n",
       "<script async src=\"https://platform.twitter.com/widgets.js\" charset=\"utf-8\"></script>"
      ],
      "text/plain": [
       "<IPython.core.display.HTML object>"
      ]
     },
     "metadata": {},
     "output_type": "display_data"
    }
   ],
   "source": [
    "    %%html\n",
    "    <blockquote class=\"twitter-tweet\" data-lang=\"en\"><p lang=\"en\" dir=\"ltr\"><a href=\"https://twitter.com/hashtag/Gensim?src=hash&amp;ref_src=twsrc%5Etfw\">#Gensim</a> 3.2.0 just released, code name Christmas Come Early! New <a href=\"https://twitter.com/hashtag/Poincare?src=hash&amp;ref_src=twsrc%5Etfw\">#Poincare</a> embeddings, crazy speedup of <a href=\"https://twitter.com/hashtag/FastText?src=hash&amp;ref_src=twsrc%5Etfw\">#FastText</a>, pretrained data/models for download, Linux/Windows/MacOS wheels and other improvements. <a href=\"https://t.co/mCYvhGIycP\">https://t.co/mCYvhGIycP</a> <a href=\"https://t.co/VR3amLJl80\">pic.twitter.com/VR3amLJl80</a></p>&mdash; Gensim (@gensim_py) <a href=\"https://twitter.com/gensim_py/status/939722396688371713?ref_src=twsrc%5Etfw\">December 10, 2017</a></blockquote>\n",
    "    <script async src=\"https://platform.twitter.com/widgets.js\" charset=\"utf-8\"></script>"
   ]
  },
  {
   "cell_type": "code",
   "execution_count": 22,
   "metadata": {},
   "outputs": [
    {
     "data": {
      "text/markdown": [
       "# [`import numpy` Plan for dropping Python 2.7 support](https://github.com/numpy/numpy/blob/master/doc/neps/dropping-python2.7-proposal.rst)\n",
       " "
      ],
      "text/plain": [
       "<IPython.core.display.Markdown object>"
      ]
     },
     "metadata": {},
     "output_type": "display_data"
    }
   ],
   "source": [
    "# [`import numpy` Plan for dropping Python 2.7 support]({{ref['np']}})\n",
    " "
   ]
  },
  {
   "cell_type": "code",
   "execution_count": 24,
   "metadata": {
    "slideshow": {
     "slide_type": "slide"
    }
   },
   "outputs": [
    {
     "data": {
      "text/markdown": [
       "# Trapper Keeper \n",
       "\n",
       "[![](https://user-images.githubusercontent.com/4236275/33974126-b8b16198-e054-11e7-86bd-b333f9cde3ba.png)](https://github.com/atl-jugheads/trapper-keeper)"
      ],
      "text/plain": [
       "<IPython.core.display.Markdown object>"
      ]
     },
     "metadata": {},
     "output_type": "display_data"
    }
   ],
   "source": [
    "# Trapper Keeper \n",
    "\n",
    "[![](https://user-images.githubusercontent.com/4236275/33974126-b8b16198-e054-11e7-86bd-b333f9cde3ba.png)](https://github.com/atl-jugheads/trapper-keeper)"
   ]
  },
  {
   "cell_type": "code",
   "execution_count": 27,
   "metadata": {
    "slideshow": {
     "slide_type": "slide"
    }
   },
   "outputs": [
    {
     "data": {
      "text/markdown": [
       "    if __name__ == '__main__':\n",
       "        !jupyter nbconvert --to markdown readme.ipynb"
      ],
      "text/plain": [
       "<IPython.core.display.Markdown object>"
      ]
     },
     "metadata": {},
     "output_type": "display_data"
    },
    {
     "name": "stdout",
     "output_type": "stream",
     "text": [
      "[NbConvertApp] Converting notebook readme.ipynb to markdown\n",
      "[NbConvertApp] Writing 22966 bytes to readme.md\n"
     ]
    }
   ],
   "source": [
    "    if __name__ == '__main__':\n",
    "        !jupyter nbconvert --to markdown readme.ipynb"
   ]
  },
  {
   "cell_type": "code",
   "execution_count": null,
   "metadata": {
    "collapsed": true
   },
   "outputs": [],
   "source": []
  },
  {
   "cell_type": "code",
   "execution_count": null,
   "metadata": {
    "collapsed": true
   },
   "outputs": [],
   "source": []
  },
  {
   "cell_type": "code",
   "execution_count": null,
   "metadata": {
    "collapsed": true
   },
   "outputs": [],
   "source": []
  }
 ],
 "metadata": {
  "celltoolbar": "Slideshow",
  "kernelspec": {
   "display_name": "p6",
   "language": "python",
   "name": "other-env"
  },
  "language_info": {
   "codemirror_mode": {
    "name": "ipython",
    "version": 3
   },
   "file_extension": ".py",
   "mimetype": "text/x-python",
   "name": "python",
   "nbconvert_exporter": "python",
   "pygments_lexer": "ipython3",
   "version": "3.6.3"
  },
  "livereveal": {
   "autoSlide": 1000
  }
 },
 "nbformat": 4,
 "nbformat_minor": 2
}
